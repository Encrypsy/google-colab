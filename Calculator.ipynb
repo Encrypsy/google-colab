{
  "nbformat": 4,
  "nbformat_minor": 0,
  "metadata": {
    "colab": {
      "provenance": [],
      "authorship_tag": "ABX9TyObM/6aRE6D8VOGoBHtKS6Q",
      "include_colab_link": true
    },
    "kernelspec": {
      "name": "python3",
      "display_name": "Python 3"
    },
    "language_info": {
      "name": "python"
    }
  },
  "cells": [
    {
      "cell_type": "markdown",
      "metadata": {
        "id": "view-in-github",
        "colab_type": "text"
      },
      "source": [
        "<a href=\"https://colab.research.google.com/github/Encrypsy/google-colab/blob/main/Calculator.ipynb\" target=\"_parent\"><img src=\"https://colab.research.google.com/assets/colab-badge.svg\" alt=\"Open In Colab\"/></a>"
      ]
    },
    {
      "cell_type": "markdown",
      "source": [
        "# Google Colab Notebook\n"
      ],
      "metadata": {
        "id": "MyGTwU9DUJYD"
      }
    },
    {
      "cell_type": "markdown",
      "source": [
        "## Calculator menggunakan Dictionary 'operator'"
      ],
      "metadata": {
        "id": "r5GPkr_gWMVB"
      }
    },
    {
      "cell_type": "markdown",
      "source": [
        "* Terdapat beberapa metode yaitu\n",
        "1. tambah\n",
        "2. kurang\n",
        "3. kali\n",
        "4. bagi\n",
        "\n",
        "* lalu kita membuat inputan yang di convert ke float\n",
        "* membuat dictionary yang bernama operator untuk mengirim inputan tadi berdasarkan pilihan operator nya (+, -, x, /)"
      ],
      "metadata": {
        "id": "DvDkqNarWb0Z"
      }
    },
    {
      "cell_type": "code",
      "execution_count": 12,
      "metadata": {
        "colab": {
          "base_uri": "https://localhost:8080/"
        },
        "id": "xqM35Y3NUGdT",
        "outputId": "be6e26f1-83ea-4bdd-c919-4c0422a462c5"
      },
      "outputs": [
        {
          "output_type": "stream",
          "name": "stdout",
          "text": [
            "Masukkan angka pertama : 24\n",
            "Masukkan angka kedua : 45\n",
            "Masukkan operator (+, -, x, /) : x\n",
            "hasil dari 24.0x45.0 adalah 1080.0\n"
          ]
        }
      ],
      "source": [
        "def tambah (a, b):\n",
        "  return a + b\n",
        "\n",
        "def kurang (a, b):\n",
        "  return a - b\n",
        "\n",
        "def kali (a, b):\n",
        "  return a * b\n",
        "\n",
        "def bagi (a, b):\n",
        "  return a / b\n",
        "\n",
        "operator = {\n",
        "    '+': tambah,\n",
        "    '-': kurang,\n",
        "    'x': kali,\n",
        "    '/': bagi\n",
        "}\n",
        "\n",
        "angka1 = float(input('Masukkan angka pertama : '))\n",
        "angka2 = float(input('Masukkan angka kedua : '))\n",
        "op = input('Masukkan operator (+, -, x, /) : ')\n",
        "\n",
        "hasil = operator.get(op)(angka1, angka2)\n",
        "print(f'hasil dari {angka1}{op}{angka2} adalah {hasil}')"
      ]
    }
  ]
}