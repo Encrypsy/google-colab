{
  "nbformat": 4,
  "nbformat_minor": 0,
  "metadata": {
    "colab": {
      "provenance": [],
      "authorship_tag": "ABX9TyPdRp2KRxkJvtDdQBlQC3Gj",
      "include_colab_link": true
    },
    "kernelspec": {
      "name": "python3",
      "display_name": "Python 3"
    },
    "language_info": {
      "name": "python"
    }
  },
  "cells": [
    {
      "cell_type": "markdown",
      "metadata": {
        "id": "view-in-github",
        "colab_type": "text"
      },
      "source": [
        "<a href=\"https://colab.research.google.com/github/Encrypsy/google-colab/blob/main/Numpy/NumpyArray.ipynb\" target=\"_parent\"><img src=\"https://colab.research.google.com/assets/colab-badge.svg\" alt=\"Open In Colab\"/></a>"
      ]
    },
    {
      "cell_type": "markdown",
      "source": [
        "## Numpy Beginner - O1\n",
        "by. Malya Maritza"
      ],
      "metadata": {
        "id": "zfCJ1nSauWHI"
      }
    },
    {
      "cell_type": "markdown",
      "source": [
        "* pertama tama kita harus mendownload Numpy di CMD device kalian dengan ketik\n",
        "'pip install numpy'\n",
        "jika sudah kalian bisa ngoding memakai Numpy!\n"
      ],
      "metadata": {
        "id": "h21AR62GusdV"
      }
    },
    {
      "cell_type": "markdown",
      "source": [
        "## Array / List in Numpy"
      ],
      "metadata": {
        "id": "-Aa5I1IDulF3"
      }
    },
    {
      "cell_type": "markdown",
      "source": [
        "* import numpy ke codingan kita"
      ],
      "metadata": {
        "id": "_0gqZNfHvKIY"
      }
    },
    {
      "cell_type": "code",
      "execution_count": 1,
      "metadata": {
        "id": "j1qyEskeuPYZ"
      },
      "outputs": [],
      "source": [
        "import numpy as np"
      ]
    },
    {
      "cell_type": "markdown",
      "source": [
        "sebenernya ga harus np ya temen temen, bisa kalian inisialisasi kan sesuai selera kalian.\n",
        "\n",
        "tapi umumnya memakai np"
      ],
      "metadata": {
        "id": "jHa1T14ivRlH"
      }
    },
    {
      "cell_type": "code",
      "source": [
        "import numpy as num\n",
        "\n",
        "k = num.array([1,2,3])\n",
        "w = num.array([2,4,1])\n",
        "\n",
        "print(k*w) # Output: [2 8 3]"
      ],
      "metadata": {
        "colab": {
          "base_uri": "https://localhost:8080/"
        },
        "id": "7MORAIQYvcse",
        "outputId": "51d8d3ee-99cc-4c0f-b2e1-27cfef77c809"
      },
      "execution_count": 5,
      "outputs": [
        {
          "output_type": "stream",
          "name": "stdout",
          "text": [
            "[2 8 3]\n"
          ]
        }
      ]
    },
    {
      "cell_type": "markdown",
      "source": [
        "Contoh diatas adalah impelentasi array menggunakan library numpy, memakai numpy itu bisa lebih fleksibel dibanding memakai array yang biasa"
      ],
      "metadata": {
        "id": "vLNEiNQhw9MM"
      }
    },
    {
      "cell_type": "code",
      "source": [
        "x = [1, 2, 3]\n",
        "y = [2, 4, 1]\n",
        "\n",
        "print(x*y) #Output: ERROR"
      ],
      "metadata": {
        "colab": {
          "base_uri": "https://localhost:8080/",
          "height": 176
        },
        "collapsed": true,
        "id": "1ZR3-o2AxMbx",
        "outputId": "aea06d9a-b5df-4bae-f9d8-18c91fbf276d"
      },
      "execution_count": 7,
      "outputs": [
        {
          "output_type": "error",
          "ename": "TypeError",
          "evalue": "can't multiply sequence by non-int of type 'list'",
          "traceback": [
            "\u001b[0;31m---------------------------------------------------------------------------\u001b[0m",
            "\u001b[0;31mTypeError\u001b[0m                                 Traceback (most recent call last)",
            "\u001b[0;32m<ipython-input-7-d3665d288541>\u001b[0m in \u001b[0;36m<cell line: 0>\u001b[0;34m()\u001b[0m\n\u001b[1;32m      2\u001b[0m \u001b[0my\u001b[0m \u001b[0;34m=\u001b[0m \u001b[0;34m[\u001b[0m\u001b[0;36m2\u001b[0m\u001b[0;34m,\u001b[0m \u001b[0;36m4\u001b[0m\u001b[0;34m,\u001b[0m \u001b[0;36m1\u001b[0m\u001b[0;34m]\u001b[0m\u001b[0;34m\u001b[0m\u001b[0;34m\u001b[0m\u001b[0m\n\u001b[1;32m      3\u001b[0m \u001b[0;34m\u001b[0m\u001b[0m\n\u001b[0;32m----> 4\u001b[0;31m \u001b[0mprint\u001b[0m\u001b[0;34m(\u001b[0m\u001b[0mx\u001b[0m\u001b[0;34m*\u001b[0m\u001b[0my\u001b[0m\u001b[0;34m)\u001b[0m \u001b[0;31m#Output: ERROR\u001b[0m\u001b[0;34m\u001b[0m\u001b[0;34m\u001b[0m\u001b[0m\n\u001b[0m",
            "\u001b[0;31mTypeError\u001b[0m: can't multiply sequence by non-int of type 'list'"
          ]
        }
      ]
    },
    {
      "cell_type": "markdown",
      "source": [
        "Berikut adalah contoh yang memakai array BIASA. yang dimana tidak se fleksibel array Numpy"
      ],
      "metadata": {
        "id": "zDSQoFXVzGMa"
      }
    },
    {
      "cell_type": "markdown",
      "source": [
        "* Menunjukkan **dimensi** suatu Array"
      ],
      "metadata": {
        "id": "AzprV04vzZoz"
      }
    },
    {
      "cell_type": "code",
      "source": [
        "import numpy as num\n",
        "\n",
        "k = num.array([1,2,3])\n",
        "w = num.array([2,4,1])\n",
        "\n",
        "a = num.array([[2,3,5], [5,9,3]])\n",
        "b = num.array([[2,2,1], [3,5,6], [3,4,5]])\n",
        "\n",
        "#print(f'Dimensi array k: {k.ndim}') > Output: Dimensi array k: 1\n",
        "#print(f'Dimensi array w: {w.ndim}') > Output: Dimensi array w: 1\n",
        "#print(f'Dimensi array a: {a.ndim}') > Output: Dimensi array a: 1\n",
        "print(f'Dimensi array b: {b.ndim}')"
      ],
      "metadata": {
        "colab": {
          "base_uri": "https://localhost:8080/"
        },
        "id": "Q0P-uBBKzPl_",
        "outputId": "cd7b973c-9fd8-440d-aa5d-ffc464fb1f54"
      },
      "execution_count": 14,
      "outputs": [
        {
          "output_type": "stream",
          "name": "stdout",
          "text": [
            "Dimensi array b: 2\n"
          ]
        }
      ]
    },
    {
      "cell_type": "markdown",
      "source": [
        "untuk mengetahui dimensi dari suatu array kalian bisa ketik\n",
        "\n",
        "'namaArray.ndim'"
      ],
      "metadata": {
        "id": "r3xsiC3P0rn5"
      }
    },
    {
      "cell_type": "markdown",
      "source": [
        "* Menunjukkan **ukuran** dari suatu array"
      ],
      "metadata": {
        "id": "KB1HmzOA3Lii"
      }
    },
    {
      "cell_type": "code",
      "source": [
        "import numpy as num\n",
        "\n",
        "# Dimensi 2\n",
        "a = num.array([[2,2,1], [3,5,6], [3,4,5]])\n",
        "\n",
        "# Dimensi 3 (2, 3, 2)\n",
        "b = num.array([\n",
        "    [[2,3], [2,1], [2,2]],\n",
        "    [[1,1], [3,1], [0,0]]\n",
        "])\n",
        "\n",
        "# Dimensi 3 (4,3,1)\n",
        "c = num.array([\n",
        "    [[1], [2], [3]],\n",
        "    [[4], [5], [6]],\n",
        "    [[7], [8], [9]],\n",
        "    [[10], [11], [12]]\n",
        "])\n",
        "\n",
        "# Dimensi 3 (1,3,1)\n",
        "d = num.array([\n",
        "    [[1], [2], [3]],\n",
        "])\n",
        "\n",
        "# Dimensi 3 (3, 2, 1)\n",
        "e = num.array([\n",
        "    [[0], [0]],\n",
        "    [[0], [0]],\n",
        "    [[0], [0]]\n",
        "])\n",
        "\n",
        "\n",
        "print(f'Ukuran dari array e: {e.shape}')"
      ],
      "metadata": {
        "colab": {
          "base_uri": "https://localhost:8080/"
        },
        "id": "g2fky4dG01HA",
        "outputId": "6e383e1c-5f5a-4f72-b96c-645d6abaa356"
      },
      "execution_count": 29,
      "outputs": [
        {
          "output_type": "stream",
          "name": "stdout",
          "text": [
            "Ukuran dari array e: (3, 2, 1)\n"
          ]
        }
      ]
    },
    {
      "cell_type": "code",
      "source": [],
      "metadata": {
        "id": "6Un7suWv8wpI"
      },
      "execution_count": null,
      "outputs": []
    }
  ]
}